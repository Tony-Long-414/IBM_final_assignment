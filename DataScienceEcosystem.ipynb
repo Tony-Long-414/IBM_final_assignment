{
  "metadata": {
    "kernelspec": {
      "name": "python",
      "display_name": "Python (Pyodide)",
      "language": "python"
    },
    "language_info": {
      "codemirror_mode": {
        "name": "python",
        "version": 3
      },
      "file_extension": ".py",
      "mimetype": "text/x-python",
      "name": "python",
      "nbconvert_exporter": "python",
      "pygments_lexer": "ipython3",
      "version": "3.8"
    }
  },
  "nbformat_minor": 5,
  "nbformat": 4,
  "cells": [
    {
      "id": "1b3a92e8-91dc-42de-b978-b58988043b54",
      "cell_type": "markdown",
      "source": "Data Science Tools and Ecosystem",
      "metadata": {}
    },
    {
      "id": "7879204b-62fc-4d37-a1f2-773b6dc3a367",
      "cell_type": "markdown",
      "source": "In this notebook, Data Science Tools and Ecosystem are summarized.",
      "metadata": {}
    },
    {
      "id": "53278c60-ba94-43bb-9991-02021ffe4576",
      "cell_type": "markdown",
      "source": "**Objectives:**\n\n- List popular languages for Data Science  \n",
      "metadata": {}
    },
    {
      "id": "c060e0e5-7f28-4aaf-af87-52f70b576072",
      "cell_type": "markdown",
      "source": "Some of the popular languages that Data Scientists use are:\n1. Python\n2. R\n3. Julia",
      "metadata": {}
    },
    {
      "id": "806e4977-2c13-4672-85c8-724482a2651e",
      "cell_type": "markdown",
      "source": "Some of the commonly used libraries used by Data Scientists include:\n1. NumPy\n2. dplyr\n3. ggplot",
      "metadata": {}
    },
    {
      "id": "a170b395-1396-4ad9-998f-56c8119cae4d",
      "cell_type": "markdown",
      "source": "|Data Science Tools|\n|------------------|\n|Jupyter Notebooks|\n|R studio |\n|Spyder|",
      "metadata": {}
    },
    {
      "id": "1672df8c-d3e1-49cd-8655-b7d497234d00",
      "cell_type": "markdown",
      "source": "### Below are a few examples of evaluating arithmetic expressions in Python",
      "metadata": {}
    },
    {
      "id": "3336f0de-9df2-4d7c-a286-61c04f8c1a3b",
      "cell_type": "code",
      "source": "(3*4)+5\n#This a simple arithmetic expression to mutiply then add integers",
      "metadata": {
        "trusted": true
      },
      "outputs": [
        {
          "execution_count": 5,
          "output_type": "execute_result",
          "data": {
            "text/plain": "17"
          },
          "metadata": {}
        }
      ],
      "execution_count": 5
    },
    {
      "id": "3024269b-10a4-45c9-9c13-6b6a8422098e",
      "cell_type": "code",
      "source": "200/60\n#This will convert 200 minutes to hours by diving by 60",
      "metadata": {
        "trusted": true
      },
      "outputs": [
        {
          "execution_count": 6,
          "output_type": "execute_result",
          "data": {
            "text/plain": "3.3333333333333335"
          },
          "metadata": {}
        }
      ],
      "execution_count": 6
    },
    {
      "id": "e1cccbc7-1986-4ed5-ab8b-a2bdb1d13214",
      "cell_type": "markdown",
      "source": "## Author\nTingyu Long",
      "metadata": {}
    },
    {
      "id": "eabf7701-1ef9-44b2-8873-323d59c63c07",
      "cell_type": "code",
      "source": "",
      "metadata": {
        "trusted": true
      },
      "outputs": [],
      "execution_count": null
    }
  ]
}